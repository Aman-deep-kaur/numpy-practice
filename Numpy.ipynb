{
 "cells": [
  {
   "cell_type": "code",
   "execution_count": 3,
   "id": "b6fe1e0d-335f-468c-a0b0-9a69261756b9",
   "metadata": {},
   "outputs": [],
   "source": [
    "import numpy as np"
   ]
  },
  {
   "cell_type": "markdown",
   "id": "61475016-e03e-4364-b680-77487929d853",
   "metadata": {},
   "source": [
    "#**Step - 2) Create arrays**"
   ]
  },
  {
   "cell_type": "markdown",
   "id": "628d59dc-f0f3-4f25-a1c6-c970ba1c01cf",
   "metadata": {},
   "source": [
    "- 1D array"
   ]
  },
  {
   "cell_type": "code",
   "execution_count": 5,
   "id": "ea69ec79-8cee-4765-9318-bf1903825630",
   "metadata": {},
   "outputs": [
    {
     "name": "stdout",
     "output_type": "stream",
     "text": [
      "[1 2 3 4 5]\n"
     ]
    }
   ],
   "source": [
    "One_D_Array = np.array([1,2,3,4,5])\n",
    "print(One_D_Array)"
   ]
  },
  {
   "cell_type": "markdown",
   "id": "228ab425-4330-44dd-bd53-327bb743620f",
   "metadata": {},
   "source": [
    "- 2D array"
   ]
  },
  {
   "cell_type": "code",
   "execution_count": 7,
   "id": "01db17fa-4835-486a-8353-8698e5800161",
   "metadata": {},
   "outputs": [
    {
     "name": "stdout",
     "output_type": "stream",
     "text": [
      "[[ 1  2  3  4  5]\n",
      " [ 6  7  8  9 10]]\n"
     ]
    }
   ],
   "source": [
    "Two_D_Array = np.array([[1,2,3,4,5], [6,7,8,9,10]])\n",
    "print(Two_D_Array)"
   ]
  },
  {
   "cell_type": "markdown",
   "id": "ce38202d-7010-4c11-93b2-3f329edc1e90",
   "metadata": {},
   "source": [
    "- 3D array"
   ]
  },
  {
   "cell_type": "code",
   "execution_count": 10,
   "id": "a7b15007-87ff-43af-ad68-fbf63758dc3b",
   "metadata": {},
   "outputs": [
    {
     "name": "stdout",
     "output_type": "stream",
     "text": [
      "[[[ 1  2  3]\n",
      "  [ 4  5  6]]\n",
      "\n",
      " [[ 7  8  9]\n",
      "  [10 11 12]]]\n"
     ]
    }
   ],
   "source": [
    "Three_D_Array = np.array([[[1,2,3], [4,5,6]],\n",
    "[[7,8,9], [10,11,12]]])\n",
    "print(Three_D_Array)"
   ]
  },
  {
   "cell_type": "markdown",
   "id": "502134f9-f065-49f5-9910-7de676326971",
   "metadata": {},
   "source": [
    "#**Step - 3) Check shape and size**"
   ]
  },
  {
   "cell_type": "code",
   "execution_count": 16,
   "id": "8286934a-aa30-4971-b6d8-e33c55a2f10f",
   "metadata": {},
   "outputs": [
    {
     "name": "stdout",
     "output_type": "stream",
     "text": [
      "Shape: (5,)\n"
     ]
    }
   ],
   "source": [
    "print('Shape:', One_D_Array.shape)"
   ]
  },
  {
   "cell_type": "markdown",
   "id": "a8fa596e-b1a0-4541-900a-ae8a8ab22a9d",
   "metadata": {},
   "source": [
    "*Means One_D_Array contains 5 elements, often displayed as 5 columns*"
   ]
  },
  {
   "cell_type": "code",
   "execution_count": 18,
   "id": "ad3babdd-7c66-44d7-8988-45123a0cb5fa",
   "metadata": {},
   "outputs": [
    {
     "name": "stdout",
     "output_type": "stream",
     "text": [
      "Shape: (2, 5)\n"
     ]
    }
   ],
   "source": [
    "print('Shape:', Two_D_Array.shape)"
   ]
  },
  {
   "cell_type": "markdown",
   "id": "94d618b1-f9a9-46bd-b690-8b00ea855d1b",
   "metadata": {},
   "source": [
    "*The array has two row and 5 columns*"
   ]
  },
  {
   "cell_type": "code",
   "execution_count": 20,
   "id": "fc9416ea-de04-4a1a-b045-445fc4f65c43",
   "metadata": {},
   "outputs": [
    {
     "name": "stdout",
     "output_type": "stream",
     "text": [
      "Shape: (2, 2, 3)\n"
     ]
    }
   ],
   "source": [
    "print('Shape:', Three_D_Array.shape)"
   ]
  },
  {
   "cell_type": "markdown",
   "id": "c25fea77-b9eb-44a5-86c9-b9deb672ec9d",
   "metadata": {},
   "source": [
    "*The array has 2 depth means 2 separate 2D arrays and \n",
    "2 rows in each 2D array and\n",
    "3 columns in each 2D array*"
   ]
  },
  {
   "cell_type": "code",
   "execution_count": 22,
   "id": "cdfb9bbf-c2c2-4b8d-aee6-6b0d2ceeb0cf",
   "metadata": {},
   "outputs": [
    {
     "name": "stdout",
     "output_type": "stream",
     "text": [
      "Size: 5\n"
     ]
    }
   ],
   "source": [
    "print('Size:', One_D_Array.size)"
   ]
  },
  {
   "cell_type": "markdown",
   "id": "9ec4f675-782e-426b-8a55-f7b86bc482e7",
   "metadata": {},
   "source": [
    "*Means the One D array contains 5 elements*"
   ]
  },
  {
   "cell_type": "code",
   "execution_count": 24,
   "id": "fb3d07fe-4d72-42bd-b25a-5eaf8a2a3ed2",
   "metadata": {},
   "outputs": [
    {
     "name": "stdout",
     "output_type": "stream",
     "text": [
      "Size: 10\n"
     ]
    }
   ],
   "source": [
    "print('Size:', Two_D_Array.size)"
   ]
  },
  {
   "cell_type": "code",
   "execution_count": 26,
   "id": "5ffc8b05-85b0-4c30-a63d-231168238f56",
   "metadata": {},
   "outputs": [
    {
     "name": "stdout",
     "output_type": "stream",
     "text": [
      "Size: 12\n"
     ]
    }
   ],
   "source": [
    "print('Size:', Three_D_Array.size)"
   ]
  },
  {
   "cell_type": "markdown",
   "id": "36910db1-4966-48a6-a33d-0df77c069b2a",
   "metadata": {},
   "source": [
    "#**Useful Array Functions**"
   ]
  },
  {
   "cell_type": "code",
   "execution_count": 86,
   "id": "de2cb765-201b-40c6-9289-421222b9055b",
   "metadata": {},
   "outputs": [
    {
     "name": "stdout",
     "output_type": "stream",
     "text": [
      "Empty_Values:\n",
      " [[11.50113971 28.8600554  23.84240135]\n",
      " [16.56964494 15.12061634 16.83362353]\n",
      " [14.17899715 22.39429754 22.39540391]]\n"
     ]
    }
   ],
   "source": [
    "print('Empty_Values:\\n', np.empty((3,3)))"
   ]
  },
  {
   "cell_type": "code",
   "execution_count": 32,
   "id": "9a545fc2-ae75-4311-9c44-b9ccadd31a92",
   "metadata": {},
   "outputs": [
    {
     "name": "stdout",
     "output_type": "stream",
     "text": [
      "Zeros: [[0. 0. 0.]\n",
      " [0. 0. 0.]]\n"
     ]
    }
   ],
   "source": [
    "print('Zeros:', np.zeros((2,3)))"
   ]
  },
  {
   "cell_type": "code",
   "execution_count": 34,
   "id": "28511bdd-d5f8-4375-8535-85873ec54c6a",
   "metadata": {},
   "outputs": [
    {
     "name": "stdout",
     "output_type": "stream",
     "text": [
      "Ones: [[1. 1. 1.]\n",
      " [1. 1. 1.]\n",
      " [1. 1. 1.]]\n"
     ]
    }
   ],
   "source": [
    "print('Ones:', np.ones((3,3)))"
   ]
  },
  {
   "cell_type": "code",
   "execution_count": 36,
   "id": "6d4fee98-4a4e-4e09-a914-3acae5334d92",
   "metadata": {},
   "outputs": [
    {
     "name": "stdout",
     "output_type": "stream",
     "text": [
      "Ones: [[[1. 1. 1.]\n",
      "  [1. 1. 1.]]\n",
      "\n",
      " [[1. 1. 1.]\n",
      "  [1. 1. 1.]]]\n"
     ]
    }
   ],
   "source": [
    "print('Ones:', np.ones((2,2,3)))"
   ]
  },
  {
   "cell_type": "markdown",
   "id": "68e1558b-0971-4f7d-8bfb-02abd7a9404d",
   "metadata": {},
   "source": [
    "#**- Values between 0 and 1 but not including 1(decimal/floating numbers)**"
   ]
  },
  {
   "cell_type": "code",
   "execution_count": 38,
   "id": "eb13d216-a1f4-4b07-8b21-114b04eb7297",
   "metadata": {},
   "outputs": [
    {
     "name": "stdout",
     "output_type": "stream",
     "text": [
      "Random: [[0.50188189 0.13805576]\n",
      " [0.33367405 0.22133505]]\n"
     ]
    }
   ],
   "source": [
    "print('Random:', np.random.rand(2,2))"
   ]
  },
  {
   "cell_type": "markdown",
   "id": "c5617c1e-c42d-4ee5-b783-2b00da6e51ba",
   "metadata": {},
   "source": [
    "*- But if you want random integers or other ranges - np.random.randint(start, stop, size) with this you'll get random integers not in ordred*"
   ]
  },
  {
   "cell_type": "code",
   "execution_count": 56,
   "id": "1e5a8cca-12a0-46d5-9f95-71492301dc46",
   "metadata": {},
   "outputs": [
    {
     "name": "stdout",
     "output_type": "stream",
     "text": [
      "Random_int:\n",
      " [[ 6  4  7]\n",
      " [ 6  4 12]]\n"
     ]
    }
   ],
   "source": [
    "print('Random_int:\\n', np.random.randint(2,15, size = (2,3)))"
   ]
  },
  {
   "cell_type": "markdown",
   "id": "ef389ea8-5760-4e1b-88c4-3d81d20053fe",
   "metadata": {},
   "source": [
    "*Use np.random.uniform(low, high, size) for custom float range*"
   ]
  },
  {
   "cell_type": "code",
   "execution_count": 58,
   "id": "63b2e3e7-22ba-4db3-ab86-0ae6b3e51812",
   "metadata": {},
   "outputs": [
    {
     "data": {
      "text/plain": [
       "array([[11.50113971, 28.8600554 , 23.84240135],\n",
       "       [16.56964494, 15.12061634, 16.83362353],\n",
       "       [14.17899715, 22.39429754, 22.39540391]])"
      ]
     },
     "execution_count": 58,
     "metadata": {},
     "output_type": "execute_result"
    }
   ],
   "source": [
    "np.random.uniform(10,30, size = (3,3))"
   ]
  },
  {
   "cell_type": "markdown",
   "id": "a8f30b1f-7a16-450c-9f31-bf10ffc53b5d",
   "metadata": {},
   "source": [
    "#**Transpose Function**"
   ]
  },
  {
   "cell_type": "markdown",
   "id": "54464081-e9d0-400d-ba78-614955eaa329",
   "metadata": {},
   "source": [
    "*The Transpose() Function in Numpy is used to flip the dimensions of an array - commonly used for 2D arrays(matrices) or multidimensional arrays*"
   ]
  },
  {
   "cell_type": "code",
   "execution_count": 42,
   "id": "8038fbb4-334f-4326-ba7a-6af70d6dfe89",
   "metadata": {},
   "outputs": [
    {
     "name": "stdout",
     "output_type": "stream",
     "text": [
      "[[ 1  6]\n",
      " [ 2  7]\n",
      " [ 3  8]\n",
      " [ 4  9]\n",
      " [ 5 10]]\n"
     ]
    }
   ],
   "source": [
    "Transposed_Two_D_Array = (Two_D_Array.transpose())\n",
    "print(Transposed_Two_D_Array)"
   ]
  },
  {
   "cell_type": "code",
   "execution_count": 50,
   "id": "a6486270-c456-4756-8261-08d0dc27b195",
   "metadata": {},
   "outputs": [
    {
     "name": "stdout",
     "output_type": "stream",
     "text": [
      "Original 2D array:\n",
      " [[ 1  2  3  4  5]\n",
      " [ 6  7  8  9 10]]\n"
     ]
    }
   ],
   "source": [
    "print('Original 2D array:\\n', Two_D_Array)"
   ]
  },
  {
   "cell_type": "markdown",
   "id": "bc81a010-1dcf-40eb-b067-57dc39e96557",
   "metadata": {},
   "source": [
    "*The example clearly shows that with the help of the transpose function, we can flip the dimensions of an array. For instance, if the original data has 2 rows and 5 columns, using the transpose function will change it to 5 rows and 2 columns.*"
   ]
  },
  {
   "cell_type": "markdown",
   "id": "9f766e56-df3c-40b5-8a28-97783f61ba53",
   "metadata": {},
   "source": [
    "#**np.arange() in NumPy is used to create arrays with regularly spaced values. Here is its syntax: np.arange(start, end, step)**"
   ]
  },
  {
   "cell_type": "code",
   "execution_count": 88,
   "id": "e49dc783-a49b-45c9-9cb4-337c6f5725f6",
   "metadata": {},
   "outputs": [
    {
     "name": "stdout",
     "output_type": "stream",
     "text": [
      "[1 2 3 4 5 6 7 8 9]\n"
     ]
    }
   ],
   "source": [
    "arange = np.arange(1,10)\n",
    "print(arange)"
   ]
  },
  {
   "cell_type": "code",
   "execution_count": 92,
   "id": "8338efb8-8a4c-4944-996c-504b450a495f",
   "metadata": {},
   "outputs": [
    {
     "name": "stdout",
     "output_type": "stream",
     "text": [
      "[ 1  3  5  7  9 11 13 15 17 19]\n"
     ]
    }
   ],
   "source": [
    "arange_with_step = np.arange(1,20,2)\n",
    "print(arange_with_step)"
   ]
  },
  {
   "cell_type": "markdown",
   "id": "11f7f417-6d22-44f9-a57b-b965e3dcb407",
   "metadata": {},
   "source": [
    "#**Array Operation**"
   ]
  },
  {
   "cell_type": "code",
   "execution_count": 114,
   "id": "f312f018-cece-4849-8568-849f321ca4be",
   "metadata": {},
   "outputs": [
    {
     "name": "stdout",
     "output_type": "stream",
     "text": [
      "Add: [15 26 37]\n"
     ]
    }
   ],
   "source": [
    "x = np.array([10,20,30])\n",
    "y = np.array([5,6,7])\n",
    "print('Add:', x + y)"
   ]
  },
  {
   "cell_type": "code",
   "execution_count": 116,
   "id": "248d0727-7ae2-4ba0-9df4-2fe78ddc299f",
   "metadata": {},
   "outputs": [
    {
     "name": "stdout",
     "output_type": "stream",
     "text": [
      "Multiply: [ 50 120 210]\n"
     ]
    }
   ],
   "source": [
    "print('Multiply:', x*y)"
   ]
  },
  {
   "cell_type": "code",
   "execution_count": 118,
   "id": "58923734-ac39-439c-ba61-7af29c3107d2",
   "metadata": {},
   "outputs": [
    {
     "name": "stdout",
     "output_type": "stream",
     "text": [
      "Subtract: [ 5 14 23]\n"
     ]
    }
   ],
   "source": [
    "print('Subtract:', x-y)"
   ]
  },
  {
   "cell_type": "code",
   "execution_count": 130,
   "id": "f93ef849-7843-463b-9a67-5bf15676952a",
   "metadata": {},
   "outputs": [
    {
     "name": "stdout",
     "output_type": "stream",
     "text": [
      "('Square root:', array([3.16227766, 4.47213595, 5.47722558]))\n"
     ]
    }
   ],
   "source": [
    "print(('Square root:', np.sqrt(x)))"
   ]
  },
  {
   "cell_type": "code",
   "execution_count": 136,
   "id": "3c5fe54e-9613-4177-a26d-4cb08699c5d1",
   "metadata": {},
   "outputs": [
    {
     "name": "stdout",
     "output_type": "stream",
     "text": [
      "divide:\n",
      " [2.         3.33333333 4.28571429]\n"
     ]
    }
   ],
   "source": [
    "print('divide:\\n', x / y)"
   ]
  },
  {
   "cell_type": "markdown",
   "id": "9190484b-09aa-44cd-9a9e-c56664e27b09",
   "metadata": {},
   "source": [
    "#**Indexing and Slicing**"
   ]
  },
  {
   "cell_type": "code",
   "execution_count": 8,
   "id": "7b1fa0ec-b2ed-4619-8402-a4f3eedb30a3",
   "metadata": {},
   "outputs": [
    {
     "name": "stdout",
     "output_type": "stream",
     "text": [
      "[ 1  2  3  4  5  6  7  8  9 10 11 12 13 14 15 16 17 18 19 20 21 22 23 24\n",
      " 25 26 27 28 29 30 31 32 33 34 35 36 37 38 39 40 41 42 43 44 45 46 47 48\n",
      " 49 50]\n"
     ]
    }
   ],
   "source": [
    "a = np.arange(1,51)\n",
    "print(a)"
   ]
  },
  {
   "cell_type": "code",
   "execution_count": 10,
   "id": "d8fb77c5-1e86-4cab-8762-b7081cdaa6be",
   "metadata": {},
   "outputs": [
    {
     "name": "stdout",
     "output_type": "stream",
     "text": [
      "[[ 1  2  3  4  5]\n",
      " [ 6  7  8  9 10]\n",
      " [11 12 13 14 15]\n",
      " [16 17 18 19 20]\n",
      " [21 22 23 24 25]\n",
      " [26 27 28 29 30]\n",
      " [31 32 33 34 35]\n",
      " [36 37 38 39 40]\n",
      " [41 42 43 44 45]\n",
      " [46 47 48 49 50]]\n"
     ]
    }
   ],
   "source": [
    "b = a.reshape(10,5)\n",
    "print(b)"
   ]
  },
  {
   "cell_type": "code",
   "execution_count": 12,
   "id": "35a50f63-3e6e-49d9-90ab-2df2d65d7512",
   "metadata": {},
   "outputs": [
    {
     "data": {
      "text/plain": [
       "array([1, 2, 3, 4, 5])"
      ]
     },
     "execution_count": 12,
     "metadata": {},
     "output_type": "execute_result"
    }
   ],
   "source": [
    "b[0]"
   ]
  },
  {
   "cell_type": "code",
   "execution_count": 14,
   "id": "25de3ad4-94a0-498f-b895-760120c44e72",
   "metadata": {},
   "outputs": [
    {
     "data": {
      "text/plain": [
       "array([11, 12, 13, 14, 15])"
      ]
     },
     "execution_count": 14,
     "metadata": {},
     "output_type": "execute_result"
    }
   ],
   "source": [
    "b[2]"
   ]
  },
  {
   "cell_type": "code",
   "execution_count": 16,
   "id": "a562e6cd-22e8-43e1-b484-a521c010629d",
   "metadata": {},
   "outputs": [
    {
     "data": {
      "text/plain": [
       "1"
      ]
     },
     "execution_count": 16,
     "metadata": {},
     "output_type": "execute_result"
    }
   ],
   "source": [
    "b[0,0]"
   ]
  },
  {
   "cell_type": "code",
   "execution_count": 18,
   "id": "d70876bf-f445-4f63-a72d-933626b335d6",
   "metadata": {},
   "outputs": [
    {
     "data": {
      "text/plain": [
       "20"
      ]
     },
     "execution_count": 18,
     "metadata": {},
     "output_type": "execute_result"
    }
   ],
   "source": [
    "b[3,4]"
   ]
  },
  {
   "cell_type": "code",
   "execution_count": 20,
   "id": "b9742297-6e7f-4017-b44f-72c51030836e",
   "metadata": {},
   "outputs": [
    {
     "data": {
      "text/plain": [
       "array([[11, 12, 13, 14, 15],\n",
       "       [16, 17, 18, 19, 20],\n",
       "       [21, 22, 23, 24, 25]])"
      ]
     },
     "execution_count": 20,
     "metadata": {},
     "output_type": "execute_result"
    }
   ],
   "source": [
    "b[2:5]"
   ]
  },
  {
   "cell_type": "code",
   "execution_count": 26,
   "id": "89375c3c-9266-408d-a2c8-43fc907f85d7",
   "metadata": {},
   "outputs": [
    {
     "data": {
      "text/plain": [
       "array([[ 1,  2,  3,  4,  5],\n",
       "       [ 6,  7,  8,  9, 10],\n",
       "       [11, 12, 13, 14, 15],\n",
       "       [16, 17, 18, 19, 20],\n",
       "       [21, 22, 23, 24, 25],\n",
       "       [26, 27, 28, 29, 30],\n",
       "       [31, 32, 33, 34, 35],\n",
       "       [36, 37, 38, 39, 40],\n",
       "       [41, 42, 43, 44, 45],\n",
       "       [46, 47, 48, 49, 50]])"
      ]
     },
     "execution_count": 26,
     "metadata": {},
     "output_type": "execute_result"
    }
   ],
   "source": [
    "b[0:10]"
   ]
  },
  {
   "cell_type": "code",
   "execution_count": 24,
   "id": "0e90668e-ffa4-42d3-b231-60e3ebf94910",
   "metadata": {},
   "outputs": [
    {
     "data": {
      "text/plain": [
       "array([ 3,  8, 13, 18, 23, 28, 33, 38, 43, 48])"
      ]
     },
     "execution_count": 24,
     "metadata": {},
     "output_type": "execute_result"
    }
   ],
   "source": [
    "b[:,2]"
   ]
  },
  {
   "cell_type": "code",
   "execution_count": 28,
   "id": "7d33a1da-5909-4503-a99b-969bb3c6caff",
   "metadata": {},
   "outputs": [
    {
     "data": {
      "text/plain": [
       "array([15, 20, 25])"
      ]
     },
     "execution_count": 28,
     "metadata": {},
     "output_type": "execute_result"
    }
   ],
   "source": [
    "b[2:5,4]"
   ]
  },
  {
   "cell_type": "code",
   "execution_count": 30,
   "id": "1439d67f-d4fb-42fc-a180-8d0825cf390e",
   "metadata": {},
   "outputs": [
    {
     "data": {
      "text/plain": [
       "array([[ 3,  4,  5],\n",
       "       [ 8,  9, 10],\n",
       "       [13, 14, 15],\n",
       "       [18, 19, 20],\n",
       "       [23, 24, 25],\n",
       "       [28, 29, 30],\n",
       "       [33, 34, 35],\n",
       "       [38, 39, 40],\n",
       "       [43, 44, 45],\n",
       "       [48, 49, 50]])"
      ]
     },
     "execution_count": 30,
     "metadata": {},
     "output_type": "execute_result"
    }
   ],
   "source": [
    "b[:,2:5]"
   ]
  },
  {
   "cell_type": "markdown",
   "id": "17ceac6a-4464-444e-84f9-9fcdf4d393ff",
   "metadata": {},
   "source": [
    "#**Reshaping Arrays in Numpy**"
   ]
  },
  {
   "cell_type": "markdown",
   "id": "7e4b0178-b6ab-4b99-88c6-7dac701ee481",
   "metadata": {},
   "source": [
    "*Reshaping means changing the shape of the array (like from 1D to 2D, or 2D to 3D), without changing the data.*"
   ]
  },
  {
   "cell_type": "code",
   "execution_count": 32,
   "id": "d0875125-9e74-4795-b7c6-c1356d3ca1a0",
   "metadata": {},
   "outputs": [
    {
     "name": "stdout",
     "output_type": "stream",
     "text": [
      "[ 0  1  2  3  4  5  6  7  8  9 10 11]\n"
     ]
    }
   ],
   "source": [
    "x = np.arange(12)\n",
    "print(x)"
   ]
  },
  {
   "cell_type": "code",
   "execution_count": 36,
   "id": "3764a2b8-7933-4439-8498-8f124b721725",
   "metadata": {},
   "outputs": [
    {
     "name": "stdout",
     "output_type": "stream",
     "text": [
      "[[ 0  1  2  3]\n",
      " [ 4  5  6  7]\n",
      " [ 8  9 10 11]]\n"
     ]
    }
   ],
   "source": [
    "print(x.reshape(3,4))"
   ]
  },
  {
   "cell_type": "code",
   "execution_count": 46,
   "id": "756f58dd-cbe9-4d95-9744-e6919fccf4b5",
   "metadata": {},
   "outputs": [
    {
     "name": "stdout",
     "output_type": "stream",
     "text": [
      "[[[ 0  1  2]\n",
      "  [ 3  4  5]]\n",
      "\n",
      " [[ 6  7  8]\n",
      "  [ 9 10 11]]]\n"
     ]
    }
   ],
   "source": [
    "print(x.reshape(2,2,3))"
   ]
  },
  {
   "cell_type": "markdown",
   "id": "eb410ce2-bfef-4458-a37c-8d3bcfcdc38f",
   "metadata": {},
   "source": [
    "#**Aggregate Functions in numpy**"
   ]
  },
  {
   "cell_type": "code",
   "execution_count": 48,
   "id": "dd234f3c-0e09-484b-8026-63147d286722",
   "metadata": {},
   "outputs": [
    {
     "name": "stdout",
     "output_type": "stream",
     "text": [
      "[[10 20]\n",
      " [30 40]]\n"
     ]
    }
   ],
   "source": [
    "arr = np.array([[10,20], [30,40]])\n",
    "print(arr)"
   ]
  },
  {
   "cell_type": "code",
   "execution_count": 50,
   "id": "aa099b2a-1775-4472-a877-db7cddbb3c9d",
   "metadata": {},
   "outputs": [
    {
     "name": "stdout",
     "output_type": "stream",
     "text": [
      "Sum 100\n"
     ]
    }
   ],
   "source": [
    "print('Sum', arr.sum())"
   ]
  },
  {
   "cell_type": "code",
   "execution_count": 52,
   "id": "5d886c9a-d463-498d-bfe7-a09770532475",
   "metadata": {},
   "outputs": [
    {
     "name": "stdout",
     "output_type": "stream",
     "text": [
      "Min 10\n"
     ]
    }
   ],
   "source": [
    "print('Min', arr.min())"
   ]
  },
  {
   "cell_type": "code",
   "execution_count": 56,
   "id": "aae84163-1894-4901-ae45-c5d5ea126829",
   "metadata": {},
   "outputs": [
    {
     "name": "stdout",
     "output_type": "stream",
     "text": [
      "Max 40\n"
     ]
    }
   ],
   "source": [
    "print('Max', arr.max())"
   ]
  },
  {
   "cell_type": "code",
   "execution_count": 58,
   "id": "132cda4b-1238-4082-b579-8519da87df71",
   "metadata": {},
   "outputs": [
    {
     "name": "stdout",
     "output_type": "stream",
     "text": [
      "Mean 25.0\n"
     ]
    }
   ],
   "source": [
    "print('Mean', arr.mean())"
   ]
  },
  {
   "cell_type": "code",
   "execution_count": 60,
   "id": "f42eca09-e24f-4dd1-8875-2500cadb1b59",
   "metadata": {},
   "outputs": [
    {
     "name": "stdout",
     "output_type": "stream",
     "text": [
      "SD 11.180339887498949\n"
     ]
    }
   ],
   "source": [
    "print('SD', arr.std())"
   ]
  },
  {
   "cell_type": "markdown",
   "id": "ea991d74-e17e-4eb8-87a9-69c85cdbbe0a",
   "metadata": {},
   "source": [
    "*we can also apply functions row-wise and column-wise using axis*"
   ]
  },
  {
   "cell_type": "code",
   "execution_count": 62,
   "id": "7a6b7ceb-c05f-46ea-a115-bd5ca1ddc001",
   "metadata": {},
   "outputs": [
    {
     "name": "stdout",
     "output_type": "stream",
     "text": [
      "Sum(rows): [30 70]\n"
     ]
    }
   ],
   "source": [
    "print('Sum(rows):', arr.sum(axis = 1))"
   ]
  },
  {
   "cell_type": "code",
   "execution_count": 64,
   "id": "2ebc57a8-3584-4a6c-b78a-56ec90601322",
   "metadata": {},
   "outputs": [
    {
     "name": "stdout",
     "output_type": "stream",
     "text": [
      "Sum(columns): [40 60]\n"
     ]
    }
   ],
   "source": [
    "print('Sum(columns):', arr.sum(axis = 0))"
   ]
  },
  {
   "cell_type": "markdown",
   "id": "775929ee-f6e9-4445-b561-3ae6b5b45d4c",
   "metadata": {},
   "source": [
    "#**np.eye()- Identity matrix**"
   ]
  },
  {
   "cell_type": "code",
   "execution_count": 68,
   "id": "2ba8786e-98e1-4307-b1a1-3df877a020bc",
   "metadata": {},
   "outputs": [
    {
     "name": "stdout",
     "output_type": "stream",
     "text": [
      "[[1. 0. 0. 0. 0.]\n",
      " [0. 1. 0. 0. 0.]\n",
      " [0. 0. 1. 0. 0.]\n",
      " [0. 0. 0. 1. 0.]\n",
      " [0. 0. 0. 0. 1.]]\n"
     ]
    }
   ],
   "source": [
    "Identity_matrix = np.eye(5)\n",
    "print(Identity_matrix)"
   ]
  },
  {
   "cell_type": "markdown",
   "id": "fb802e2f-6bb8-4692-b13a-b45eae16d41d",
   "metadata": {},
   "source": [
    "#**np.full()-Create array with a specific value**"
   ]
  },
  {
   "cell_type": "code",
   "execution_count": 70,
   "id": "85856e4f-5298-4124-81f0-52510a71a81c",
   "metadata": {},
   "outputs": [
    {
     "name": "stdout",
     "output_type": "stream",
     "text": [
      "[[7 7]\n",
      " [7 7]]\n"
     ]
    }
   ],
   "source": [
    "filled_array = np.full((2,2),7)\n",
    "print(filled_array)"
   ]
  },
  {
   "cell_type": "code",
   "execution_count": null,
   "id": "a51e97e7-f9a0-4c83-b64b-2d3714bdee38",
   "metadata": {},
   "outputs": [],
   "source": []
  }
 ],
 "metadata": {
  "kernelspec": {
   "display_name": "Python [conda env:base] *",
   "language": "python",
   "name": "conda-base-py"
  },
  "language_info": {
   "codemirror_mode": {
    "name": "ipython",
    "version": 3
   },
   "file_extension": ".py",
   "mimetype": "text/x-python",
   "name": "python",
   "nbconvert_exporter": "python",
   "pygments_lexer": "ipython3",
   "version": "3.12.7"
  }
 },
 "nbformat": 4,
 "nbformat_minor": 5
}
